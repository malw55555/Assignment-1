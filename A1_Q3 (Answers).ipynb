{
 "cells": [
  {
   "cell_type": "markdown",
   "metadata": {
    "collapsed": true,
    "nbgrader": {
     "grade": false,
     "grade_id": "q3_prompt",
     "locked": true,
     "schema_version": 1,
     "solution": false
    }
   },
   "source": [
    "# Question 3\n",
    "\n",
    "In this question, we'll focus on looping."
   ]
  },
  {
   "cell_type": "markdown",
   "metadata": {
    "nbgrader": {
     "grade": false,
     "grade_id": "q3a_prompt",
     "locked": true,
     "schema_version": 1,
     "solution": false
    }
   },
   "source": [
    "### Part A\n",
    "\n",
    "In the question below, you'll write code that generates a new list, `reverse`, that is the same as the input list except with its elements backwards relative to the original.\n",
    "\n",
    "As an example, if the input list is `[1, 2, 3]`, the output list `reverse` should be `[3, 2, 1]`.\n",
    "\n",
    "**You have to use loops** to answer this question! `[::-1]` is a neat trick that you should definitely use, and `reversed` is a great function you should also definitely use, but you just can't use them here."
   ]
  },
  {
   "cell_type": "code",
   "execution_count": 77,
   "metadata": {
    "nbgrader": {
     "grade": false,
     "grade_id": "q3a",
     "locked": false,
     "schema_version": 1,
     "solution": true
    }
   },
   "outputs": [
    {
     "name": "stdout",
     "output_type": "stream",
     "text": [
      "[1, 2, 3]\n",
      "[3, 2, 1]\n"
     ]
    }
   ],
   "source": [
    "#def reverse_list(inlist):\n",
    "\n",
    "#reverse = []\n",
    "\n",
    "    ### BEGIN SOLUTION\n",
    "    \n",
    "list1 = [1, 2, 3]\n",
    "reverse = []\n",
    "\n",
    "for i in range(len(list1) - 1, -1, -1):\n",
    "    \n",
    "    reverse.append(list1[i])\n",
    "    \n",
    "print(list1)\n",
    "print(reverse)\n",
    "\n",
    "\n",
    "    ### END SOLUTION\n",
    "    \n",
    "    #return reverse"
   ]
  },
  {
   "cell_type": "code",
   "execution_count": null,
   "metadata": {
    "nbgrader": {
     "grade": true,
     "grade_id": "q3a_test1",
     "locked": true,
     "points": 7,
     "schema_version": 1,
     "solution": false
    }
   },
   "outputs": [],
   "source": [
    "t1 = [1, 2, 3]\n",
    "t2 = [3, 2, 1]\n",
    "assert t2 == reverse_list(t1)"
   ]
  },
  {
   "cell_type": "code",
   "execution_count": 34,
   "metadata": {
    "nbgrader": {
     "grade": true,
     "grade_id": "q3a_test2",
     "locked": true,
     "points": 7,
     "schema_version": 1,
     "solution": false
    }
   },
   "outputs": [],
   "source": [
    "t1 = [2, 6, 52, 64, 3.4, \"something\", 3, 6.2]\n",
    "t2 = [6.2, 3, \"something\", 3.4, 64, 52, 6, 2]\n",
    "assert t1 == reverse_list(t2)"
   ]
  },
  {
   "cell_type": "markdown",
   "metadata": {
    "nbgrader": {
     "grade": false,
     "grade_id": "q3b_prompt",
     "locked": true,
     "schema_version": 1,
     "solution": false
    }
   },
   "source": [
    "### Part B\n",
    "\n",
    "This time, you'll implement a method for computing the average value of a list of numbers. Remember how to compute an average: add up all the values, then divide that sum by the number of values you initially added together.\n",
    "\n",
    "Example Input: [2, 1, 4, 3]\n",
    "\n",
    "Example Output: 2.5\n",
    "\n",
    "Aside from `len()`, you **cannot** use built-in functions like `sum()` or import any packages to help you out. You have to write this on your own!"
   ]
  },
  {
   "cell_type": "code",
   "execution_count": 91,
   "metadata": {
    "nbgrader": {
     "grade": false,
     "grade_id": "q3b",
     "locked": false,
     "schema_version": 1,
     "solution": true
    }
   },
   "outputs": [],
   "source": [
    "#def average(numbers):\n",
    "\n",
    "avg_val = 0.0\n",
    "sum_val = 0.0\n",
    "    \n",
    "    ### BEGIN SOLUTION\n",
    "    \n",
    "list1 = [2, 1, 4, 3]\n",
    "    \n",
    "for numbers in list1:\n",
    "        \n",
    "    sum_val += numbers\n",
    "    avg_val = sum_val / len(list1)\n",
    "    \n",
    "print (avg_val)\n",
    "    \n",
    "    ### END SOLUTION\n",
    "    \n",
    "    #return avg_val"
   ]
  },
  {
   "cell_type": "code",
   "execution_count": null,
   "metadata": {
    "collapsed": true,
    "nbgrader": {
     "grade": true,
     "grade_id": "q3b_test1",
     "locked": true,
     "points": 7,
     "schema_version": 1,
     "solution": false
    }
   },
   "outputs": [],
   "source": [
    "import numpy as np\n",
    "\n",
    "inlist = np.random.randint(10, 100, 10).tolist()\n",
    "np.testing.assert_allclose(average(inlist), np.mean(inlist))"
   ]
  },
  {
   "cell_type": "code",
   "execution_count": null,
   "metadata": {
    "collapsed": true,
    "nbgrader": {
     "grade": true,
     "grade_id": "q3b_test2",
     "locked": true,
     "points": 7,
     "schema_version": 1,
     "solution": false
    }
   },
   "outputs": [],
   "source": [
    "inlist = np.random.randint(10, 1000, 10).tolist()\n",
    "np.testing.assert_allclose(average(inlist), np.mean(inlist))"
   ]
  },
  {
   "cell_type": "markdown",
   "metadata": {
    "nbgrader": {
     "grade": false,
     "grade_id": "q3c_prompt",
     "locked": true,
     "schema_version": 1,
     "solution": false
    }
   },
   "source": [
    "### Part C\n",
    "\n",
    "In this question, the function below `first_negative` takes a list of numbers (creatively-named `numbers`). Your goal is to write a `while` loop that searches for the **first negative number** in the list.\n",
    "\n",
    "You should set the variable `num` equal to that negative number.\n",
    "\n",
    "If there is no negative number in the list (all the numbers are `>= 0`), just return 0."
   ]
  },
  {
   "cell_type": "code",
   "execution_count": 122,
   "metadata": {
    "nbgrader": {
     "grade": false,
     "grade_id": "q3c",
     "locked": false,
     "schema_version": 1,
     "solution": true
    }
   },
   "outputs": [
    {
     "name": "stdout",
     "output_type": "stream",
     "text": [
      "-22\n"
     ]
    }
   ],
   "source": [
    "#def first_negative(numbers):\n",
    "\n",
    "num = 0\n",
    "numbers = [1, 4, -22, -39, 1, 8, 27, 6, 27, -12]\n",
    "neg = [] #THis list will contain all of the negative numbers from the previous list.\n",
    "    \n",
    "    ### BEGIN SOLUTION\n",
    "        \n",
    "for num in numbers:\n",
    "    \n",
    "    while num < 0:\n",
    "    \n",
    "        neg.append(num)\n",
    "        num = 1 #This resets the while loop, so it does not go on forever.\n",
    "        \n",
    "print(neg[0])\n",
    "    \n",
    "    ### END SOLUTION\n",
    "    \n",
    "    #return num"
   ]
  },
  {
   "cell_type": "code",
   "execution_count": 102,
   "metadata": {
    "nbgrader": {
     "grade": true,
     "grade_id": "q3c_test1",
     "locked": true,
     "points": 5,
     "schema_version": 1,
     "solution": false
    }
   },
   "outputs": [
    {
     "ename": "NameError",
     "evalue": "name 'first_negative' is not defined",
     "output_type": "error",
     "traceback": [
      "\u001b[1;31m---------------------------------------------------------------------------\u001b[0m",
      "\u001b[1;31mNameError\u001b[0m                                 Traceback (most recent call last)",
      "\u001b[1;32m~\\AppData\\Local\\Temp/ipykernel_516/3218745416.py\u001b[0m in \u001b[0;36m<module>\u001b[1;34m\u001b[0m\n\u001b[0;32m      1\u001b[0m \u001b[0minlist1\u001b[0m \u001b[1;33m=\u001b[0m \u001b[1;33m[\u001b[0m\u001b[1;36m1\u001b[0m\u001b[1;33m,\u001b[0m \u001b[1;36m4\u001b[0m\u001b[1;33m,\u001b[0m \u001b[1;33m-\u001b[0m\u001b[1;36m22\u001b[0m\u001b[1;33m,\u001b[0m \u001b[1;33m-\u001b[0m\u001b[1;36m39\u001b[0m\u001b[1;33m,\u001b[0m \u001b[1;36m1\u001b[0m\u001b[1;33m,\u001b[0m \u001b[1;36m8\u001b[0m\u001b[1;33m,\u001b[0m \u001b[1;36m27\u001b[0m\u001b[1;33m,\u001b[0m \u001b[1;36m6\u001b[0m\u001b[1;33m,\u001b[0m \u001b[1;36m27\u001b[0m\u001b[1;33m,\u001b[0m \u001b[1;33m-\u001b[0m\u001b[1;36m12\u001b[0m\u001b[1;33m]\u001b[0m\u001b[1;33m\u001b[0m\u001b[1;33m\u001b[0m\u001b[0m\n\u001b[0;32m      2\u001b[0m \u001b[0ma1\u001b[0m \u001b[1;33m=\u001b[0m \u001b[1;33m-\u001b[0m\u001b[1;36m22\u001b[0m\u001b[1;33m\u001b[0m\u001b[1;33m\u001b[0m\u001b[0m\n\u001b[1;32m----> 3\u001b[1;33m \u001b[1;32massert\u001b[0m \u001b[0ma1\u001b[0m \u001b[1;33m==\u001b[0m \u001b[0mfirst_negative\u001b[0m\u001b[1;33m(\u001b[0m\u001b[0minlist1\u001b[0m\u001b[1;33m)\u001b[0m\u001b[1;33m\u001b[0m\u001b[1;33m\u001b[0m\u001b[0m\n\u001b[0m",
      "\u001b[1;31mNameError\u001b[0m: name 'first_negative' is not defined"
     ]
    }
   ],
   "source": [
    "inlist1 = [1, 4, -22, -39, 1, 8, 27, 6, 27, -12]\n",
    "a1 = -22\n",
    "assert a1 == first_negative(inlist1)"
   ]
  },
  {
   "cell_type": "code",
   "execution_count": null,
   "metadata": {
    "collapsed": true,
    "nbgrader": {
     "grade": true,
     "grade_id": "q3c_test2",
     "locked": true,
     "points": 2,
     "schema_version": 1,
     "solution": false
    }
   },
   "outputs": [],
   "source": [
    "inlist2 = [-29, -1, 49, -33, 49, -40, -7, 33, 36, 41]\n",
    "a2 = -29\n",
    "assert a2 == first_negative(inlist2)"
   ]
  }
 ],
 "metadata": {
  "celltoolbar": "Create Assignment",
  "kernelspec": {
   "display_name": "Python 3 (ipykernel)",
   "language": "python",
   "name": "python3"
  },
  "language_info": {
   "codemirror_mode": {
    "name": "ipython",
    "version": 3
   },
   "file_extension": ".py",
   "mimetype": "text/x-python",
   "name": "python",
   "nbconvert_exporter": "python",
   "pygments_lexer": "ipython3",
   "version": "3.9.7"
  }
 },
 "nbformat": 4,
 "nbformat_minor": 1
}
